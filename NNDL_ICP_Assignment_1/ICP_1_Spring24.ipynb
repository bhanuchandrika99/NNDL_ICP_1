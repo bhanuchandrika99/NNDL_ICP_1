# Input the string "Python" as a list of characters from the console
input_string = list(input("Enter the string 'Python': "))

# Delete at least 2 characters
if len(input_string) >= 2:
    del input_string[3:5]

# Reverse the resultant string
resultant_string = input_string[::-1]

# Print the reversed resultant string
print("Sample output:")
print("".join(resultant_string))

# Take two numbers from the user
num1 = float(input("Enter the first number: "))
num2 = float(input("Enter the second number: "))

# Perform arithmetic operations
addition = num1 + num2
subtraction = num1 - num2
multiplication = num1 * num2
division = num1 / num2

# Print the results of arithmetic operations
print("\nArithmetic operations on the two numbers:")
print(f"Addition: {addition}")
print(f"Subtraction: {subtraction}")
print(f"Multiplication: {multiplication}")
print(f"Division: {division}")
