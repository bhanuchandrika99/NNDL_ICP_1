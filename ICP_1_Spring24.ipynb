{
 "cells": [
  {
   "cell_type": "code",
   "execution_count": 1,
   "id": "f8e13e6c",
   "metadata": {},
   "outputs": [
    {
     "name": "stdout",
     "output_type": "stream",
     "text": [
      "Enter the string 'Python': python\n",
      "Sample output:\n",
      "ntyp\n",
      "Enter the first number: 8\n",
      "Enter the second number: 4\n",
      "\n",
      "Arithmetic operations on the two numbers:\n",
      "Addition: 12.0\n",
      "Subtraction: 4.0\n",
      "Multiplication: 32.0\n",
      "Division: 2.0\n"
     ]
    }
   ],
   "source": [
    "# Input the string \"Python\" as a list of characters from the console\n",
    "input_string = list(input(\"Enter the string 'Python': \"))\n",
    "\n",
    "# Delete at least 2 characters\n",
    "if len(input_string) >= 2:\n",
    "    del input_string[3:5]\n",
    "\n",
    "# Reverse the resultant string\n",
    "resultant_string = input_string[::-1]\n",
    "\n",
    "# Print the reversed resultant string\n",
    "print(\"Sample output:\")\n",
    "print(\"\".join(resultant_string))\n",
    "\n",
    "# Take two numbers from the user\n",
    "num1 = float(input(\"Enter the first number: \"))\n",
    "num2 = float(input(\"Enter the second number: \"))\n",
    "\n",
    "# Perform arithmetic operations\n",
    "addition = num1 + num2\n",
    "subtraction = num1 - num2\n",
    "multiplication = num1 * num2\n",
    "division = num1 / num2\n",
    "\n",
    "# Print the results of arithmetic operations\n",
    "print(\"\\nArithmetic operations on the two numbers:\")\n",
    "print(f\"Addition: {addition}\")\n",
    "print(f\"Subtraction: {subtraction}\")\n",
    "print(f\"Multiplication: {multiplication}\")\n",
    "print(f\"Division: {division}\")"
   ]
  }
 ],
 "metadata": {
  "kernelspec": {
   "display_name": "Python 3 (ipykernel)",
   "language": "python",
   "name": "python3"
  },
  "language_info": {
   "codemirror_mode": {
    "name": "ipython",
    "version": 3
   },
   "file_extension": ".py",
   "mimetype": "text/x-python",
   "name": "python",
   "nbconvert_exporter": "python",
   "pygments_lexer": "ipython3",
   "version": "3.11.3"
  }
 },
 "nbformat": 4,
 "nbformat_minor": 5
}
